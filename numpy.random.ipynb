{
 "cells": [
  {
   "cell_type": "markdown",
   "metadata": {},
   "source": [
    "# Analysis of numpy.random Python Package\n",
    "Author: David Maguire\n",
    "***"
   ]
  },
  {
   "cell_type": "code",
   "execution_count": 1,
   "metadata": {},
   "outputs": [],
   "source": [
    "#numpy\n",
    "import numpy as np\n",
    "\n",
    "#matplotlib pyplot\n",
    "import matplotlib.pyplot as plt\n",
    "\n",
    "#numpy.random default_rng\n",
    "from numpy.random import default_rng\n",
    "\n",
    "#numpy.random Genrator and specific BitGenerators\n",
    "from numpy.random import Generator, PCG64, MT19937"
   ]
  },
  {
   "cell_type": "code",
   "execution_count": 2,
   "metadata": {},
   "outputs": [],
   "source": [
    "# Set a style for all plots used below (Classic is useful as it shows line between histogram bins)\n",
    "plt.style.use('classic')"
   ]
  },
  {
   "cell_type": "markdown",
   "metadata": {},
   "source": [
    "\n",
    "***\n",
    "# 1. numpy.random"
   ]
  },
  {
   "cell_type": "markdown",
   "metadata": {},
   "source": [
    "https://numpy.org/doc/stable/reference/random/index.html\n",
    "\n",
    "[This earlier version](https://numpy.org/doc/1.16/reference/routines.random.html) contains the older numpy.random functions but categorised in the same categories as this notebook, so may be useful to look through"
   ]
  },
  {
   "cell_type": "markdown",
   "metadata": {},
   "source": [
    "## How does numpy.random work?\n",
    "\n",
    "numpy.random uses 2 methods to generate random numbers. These are:\n",
    "\n",
    "- [**BitGenerators**](https://numpy.org/doc/stable/reference/random/bit_generators/generated/numpy.random.BitGenerator.html#numpy.random.BitGenerator)  generate a sequence of 32 or 64 random bits\n",
    "\n",
    "- [**Generators**](https://numpy.org/doc/stable/reference/random/generator.html#numpy.random.Generator) tranforms those random bits into numbers that follow a specific probability distribution (see section 3 for specific distributions)"
   ]
  },
  {
   "cell_type": "markdown",
   "metadata": {},
   "source": [
    "Throughout this workbook, the [**default_rng**](https://numpy.org/doc/stable/reference/random/generator.html#numpy.random.default_rng) function will be used. This uses the **PCG64** BitGenerator, however other BitGenerators can be used, such as the **MT19937** BitGenerator"
   ]
  },
  {
   "cell_type": "code",
   "execution_count": 3,
   "metadata": {},
   "outputs": [
    {
     "name": "stdout",
     "output_type": "stream",
     "text": [
      "PCGrng BitGenerator:  Generator(PCG64) \n",
      "\n",
      "MTrng BitGenerator:  Generator(MT19937) \n",
      "\n",
      "default_rng BitGenerator:  Generator(PCG64)\n"
     ]
    }
   ],
   "source": [
    "# Assign different BitGenerators and default_rng\n",
    "PCGrng = Generator(PCG64())\n",
    "MTrng = Generator(MT19937())\n",
    "rng = default_rng()\n",
    "\n",
    "# Show bit generators assigned\n",
    "# default_rng is PCG64 BitGenerator\n",
    "print(\"PCGrng BitGenerator: \", PCGrng, \"\\n\")\n",
    "print(\"MTrng BitGenerator: \", MTrng, \"\\n\")\n",
    "print(\"default_rng BitGenerator: \", rng)"
   ]
  },
  {
   "cell_type": "code",
   "execution_count": null,
   "metadata": {},
   "outputs": [],
   "source": []
  },
  {
   "cell_type": "code",
   "execution_count": null,
   "metadata": {},
   "outputs": [],
   "source": []
  },
  {
   "cell_type": "code",
   "execution_count": 4,
   "metadata": {},
   "outputs": [],
   "source": [
    "# default_rng variable with seed to be used for all default_rng code below\n",
    "rng = np.random.default_rng(2021)"
   ]
  },
  {
   "cell_type": "markdown",
   "metadata": {},
   "source": [
    "### Process for generating random array of numbers"
   ]
  },
  {
   "cell_type": "code",
   "execution_count": 5,
   "metadata": {},
   "outputs": [
    {
     "data": {
      "image/png": "[encoded data removed]",
      "text/plain": [
       "<Figure size 960x640 with 1 Axes>"
      ]
     },
     "metadata": {},
     "output_type": "display_data"
    }
   ],
   "source": [
    "# rng = np.random.default_rng(2021)\n",
    "\n",
    "# Call default_rng to get a new instance of a generator\n",
    "rarray = rng.integers(0,100,10000)\n",
    "\n",
    "# Set size of plot, give title and show\n",
    "fig, ax = plt.subplots(figsize = (12,8))\n",
    "ax.set_title('Random Numbers', fontsize = '24')\n",
    "ax.hist(rarray)\n",
    "plt.show;"
   ]
  },
  {
   "cell_type": "markdown",
   "metadata": {},
   "source": [
    "#### Default_rng distribution\n",
    "As shown by the plot above, the default distribution of default_rng is **uniform**, meaning that every number in the given range has the same probability of appearing.\n",
    "More on distributions can be found in section 3."
   ]
  },
  {
   "cell_type": "markdown",
   "metadata": {},
   "source": [
    "***\n",
    "# 2. Simple Random Data and Permutations"
   ]
  },
  {
   "cell_type": "markdown",
   "metadata": {},
   "source": [
    "## Simple Random Data\n",
    "Simple random data in numpy.random is the use of a Generator to produce random data with no set distribution. In the newest version of numpy.random, there are 4 types of simple random data:\n",
    "\n",
    "- [**integers**](https://numpy.org/doc/stable/reference/random/generated/numpy.random.Generator.integers.html#numpy.random.Generator.integers) produces random integers in a given range\n",
    "\n",
    "- [**random**](https://numpy.org/doc/stable/reference/random/generated/numpy.random.Generator.random.html#numpy.random.Generator.random) returns random floats between 0.0 and 1.0\n",
    "\n",
    "- [**choice**](https://numpy.org/doc/stable/reference/random/generated/numpy.random.Generator.choice.html#numpy.random.Generator.choice) returns a random sample from a given array\n",
    "\n",
    "- [**bytes**](https://numpy.org/doc/stable/reference/random/generated/numpy.random.Generator.bytes.html#numpy.random.Generator.bytes) returns random bytes\n",
    "\n"
   ]
  },
  {
   "cell_type": "markdown",
   "metadata": {},
   "source": [
    "#### Generator.integers\n",
    "***"
   ]
  },
  {
   "cell_type": "code",
   "execution_count": 6,
   "metadata": {},
   "outputs": [
    {
     "name": "stdout",
     "output_type": "stream",
     "text": [
      "[2 0 9 0 0 9 1 9 4 2]\n"
     ]
    }
   ],
   "source": [
    "# random.Generator.integers(low, high=None, size=None, dtype=np.int64, endpoint=False)\n",
    "\n",
    "# If no high is given, first number is the high limit\n",
    "intarray = rng.integers(10, size = 10)\n",
    "print(intarray)"
   ]
  },
  {
   "cell_type": "code",
   "execution_count": 7,
   "metadata": {},
   "outputs": [
    {
     "name": "stdout",
     "output_type": "stream",
     "text": [
      "19\n"
     ]
    }
   ],
   "source": [
    "# If 2 numbers are given and no size, first number is low, second number is high\n",
    "intarray = rng.integers(10, 20)\n",
    "print(intarray)"
   ]
  },
  {
   "cell_type": "code",
   "execution_count": 8,
   "metadata": {},
   "outputs": [
    {
     "name": "stdout",
     "output_type": "stream",
     "text": [
      "[13 19 18 19 16 13 14 10 12 12]\n"
     ]
    }
   ],
   "source": [
    "# If 3 numbers are given, first number is low, second number is high, third is size\n",
    "intarray = rng.integers(10, 20, 10)\n",
    "print(intarray)"
   ]
  },
  {
   "cell_type": "markdown",
   "metadata": {},
   "source": [
    "#### Generator.random\n",
    "***"
   ]
  },
  {
   "cell_type": "code",
   "execution_count": 9,
   "metadata": {},
   "outputs": [
    {
     "name": "stdout",
     "output_type": "stream",
     "text": [
      "0.5003632947073116\n"
     ]
    }
   ],
   "source": [
    "# random.Generator.random(size=None, dtype=np.float64, out=None)\n",
    "\n",
    "# No input gives a random float between 0.0 and 1.0\n",
    "randomarray = rng.random()\n",
    "print(randomarray)"
   ]
  },
  {
   "cell_type": "code",
   "execution_count": 19,
   "metadata": {},
   "outputs": [
    {
     "name": "stdout",
     "output_type": "stream",
     "text": [
      "[0.16865121 0.30636551 0.2562599  0.79909808 0.17056308 0.54760513\n",
      " 0.84303107 0.75740305 0.97878945 0.50176621]\n"
     ]
    }
   ],
   "source": [
    "# 1 input give an array of that size\n",
    "randomarray = rng.random(10)\n",
    "print(randomarray)"
   ]
  },
  {
   "cell_type": "code",
   "execution_count": 111,
   "metadata": {},
   "outputs": [
    {
     "name": "stdout",
     "output_type": "stream",
     "text": [
      "64 bit floats:  [0.31335448681941014 0.5831297560958457  0.9316738424126431\n",
      " 0.7447694892706187  0.12800402186211002 0.9577080025671327\n",
      " 0.14582162742509652 0.3059766857003763  0.41230912986035095\n",
      " 0.11762080363516814] \n",
      "\n",
      "32 bit floats:  [0.092797875  0.9562806    0.26813018   0.9789537    0.4982605\n",
      " 0.5489123    0.02964878   0.0021309853 0.42443836   0.106642365 ]\n"
     ]
    }
   ],
   "source": [
    "# Floats can be in 64 or 32 bit\n",
    "dtype64array = rng.random(10)\n",
    "dtype32array = rng.random(10, dtype=np.float32)\n",
    "\n",
    "# This function sets the precision to 20 to show the difference in bit size\n",
    "np.set_printoptions(precision=20)\n",
    "\n",
    "print(\"64 bit floats: \", dtype64array, \"\\n\")\n",
    "print(\"32 bit floats: \", dtype32array)\n",
    "\n",
    "# Return to default (8) for rest of notebook\n",
    "np.set_printoptions(precision=8)"
   ]
  },
  {
   "cell_type": "markdown",
   "metadata": {},
   "source": [
    "#### Generator.choice\n",
    "***"
   ]
  },
  {
   "cell_type": "code",
   "execution_count": 41,
   "metadata": {},
   "outputs": [
    {
     "name": "stdout",
     "output_type": "stream",
     "text": [
      "Apple\n"
     ]
    }
   ],
   "source": [
    "# random.Generator.choice(a, size=None, replace=True, p=None, axis=0, shuffle=True)\n",
    "\n",
    "# Randomly chooses from an array\n",
    "choices = [\"Apple\", \"Banana\", \"Orange\", \"Pear\"]\n",
    "choicearray = rng.choice(choices)\n",
    "print(choicearray)"
   ]
  },
  {
   "cell_type": "code",
   "execution_count": 57,
   "metadata": {},
   "outputs": [
    {
     "name": "stdout",
     "output_type": "stream",
     "text": [
      "['Apple' 'Apple' 'Apple' 'Apple' 'Orange' 'Banana' 'Apple' 'Apple' 'Apple'\n",
      " 'Banana']\n"
     ]
    }
   ],
   "source": [
    "# Multiple choices can be made, choices by default can be made more than once\n",
    "choices = [\"Apple\", \"Banana\", \"Orange\", \"Pear\"]\n",
    "choicearray = rng.choice(choices, 10)\n",
    "print(choicearray)"
   ]
  },
  {
   "cell_type": "code",
   "execution_count": 60,
   "metadata": {},
   "outputs": [
    {
     "name": "stdout",
     "output_type": "stream",
     "text": [
      "['Pear' 'Apple' 'Orange' 'Banana']\n"
     ]
    }
   ],
   "source": [
    "# Replace=False allows unique choices to be made only once, choices are shuffled by default\n",
    "choices = [\"Apple\", \"Banana\", \"Orange\", \"Pear\"]\n",
    "choicearray = rng.choice(choices, 4, replace = False)\n",
    "print(choicearray)"
   ]
  },
  {
   "cell_type": "code",
   "execution_count": 67,
   "metadata": {},
   "outputs": [
    {
     "name": "stdout",
     "output_type": "stream",
     "text": [
      "['Apple' 'Banana' 'Orange' 'Pear']\n"
     ]
    }
   ],
   "source": [
    "# Shuffle=False gives the choices in the same order as the given list\n",
    "choices = [\"Apple\", \"Banana\", \"Orange\", \"Pear\"]\n",
    "choicearray = rng.choice(choices, 4, replace = False, shuffle=False)\n",
    "print(choicearray)"
   ]
  },
  {
   "cell_type": "code",
   "execution_count": 83,
   "metadata": {},
   "outputs": [
    {
     "name": "stdout",
     "output_type": "stream",
     "text": [
      "['Apple' 'Apple' 'Apple' 'Pear' 'Orange' 'Orange' 'Orange' 'Pear' 'Orange'\n",
      " 'Apple' 'Apple' 'Orange' 'Apple' 'Orange' 'Orange' 'Apple' 'Orange'\n",
      " 'Apple' 'Apple' 'Apple']\n"
     ]
    }
   ],
   "source": [
    "# p allows a probability of each choice to be given (must add up to 1.0)\n",
    "choices = [\"Apple\", \"Banana\", \"Orange\", \"Pear\"]\n",
    "choicearray = rng.choice(choices, 20, p=[0.7,0,0.2,0.1])\n",
    "print(choicearray)"
   ]
  },
  {
   "cell_type": "code",
   "execution_count": 110,
   "metadata": {},
   "outputs": [
    {
     "name": "stdout",
     "output_type": "stream",
     "text": [
      "[2 6 3 8 0]\n"
     ]
    }
   ],
   "source": [
    "# An int can also be given to choose a range of 0:a\n",
    "choicearray = rng.choice(a=10, size=5)\n",
    "print(choicearray)"
   ]
  },
  {
   "cell_type": "markdown",
   "metadata": {},
   "source": [
    "#### Generator.bytes\n",
    "***"
   ]
  },
  {
   "cell_type": "code",
   "execution_count": 154,
   "metadata": {},
   "outputs": [
    {
     "name": "stdout",
     "output_type": "stream",
     "text": [
      "b'\\xee|%K\\xcc\\x8b\\xd1\\xc8\\x8c\\x00D\\xe8]\\xb0\\x85\\xd4=\\xb5E\\xd8'\n"
     ]
    }
   ],
   "source": [
    "# random.Generator.bytes(length)\n",
    "\n",
    "# Retunrs random bytes of length given\n",
    "bytestring = rng.bytes(20)\n",
    "print(bytestring)"
   ]
  },
  {
   "cell_type": "markdown",
   "metadata": {},
   "source": [
    "## Permutations"
   ]
  },
  {
   "cell_type": "markdown",
   "metadata": {},
   "source": [
    "Permutation in numpy.random affect the **order** of the data given. TIn the newest version of numpy.random, there are 3 different ways of permutating data:\n",
    "\n",
    " - [shuffle](https://numpy.org/doc/stable/reference/random/generated/numpy.random.Generator.shuffle.html#numpy.random.Generator.shuffle) shuffles an array or sequence in-place changing the original array or sequence\n",
    " \n",
    " - [permutation](https://numpy.org/doc/stable/reference/random/generated/numpy.random.Generator.permutation.html#numpy.random.Generator.permutation) randomly permutes an array or sequence, returning a copy\n",
    " \n",
    " - [permutated](https://numpy.org/doc/stable/reference/random/generated/numpy.random.Generator.permuted.html#numpy.random.Generator.permuted) randomly permutes an array or sequence along an axis"
   ]
  },
  {
   "cell_type": "markdown",
   "metadata": {},
   "source": [
    "#### Generator.shuffle\n",
    "***"
   ]
  },
  {
   "cell_type": "code",
   "execution_count": 169,
   "metadata": {},
   "outputs": [
    {
     "name": "stdout",
     "output_type": "stream",
     "text": [
      "Original array:  [1 2 3 4 5 6 7 8 9]\n",
      "None\n",
      "Shuffled array:  [8 9 4 5 3 2 6 1 7]\n"
     ]
    }
   ],
   "source": [
    "# random.Generator.shuffle(x, axis=0)\n",
    "\n",
    "# Create array from 1 to 9\n",
    "array = np.arange(1,10)\n",
    "print(\"Original array: \", array)\n",
    "\n",
    "# Shuffles existing array\n",
    "shuffle = rng.shuffle(array)\n",
    "\n",
    "# This will not work as no copy was of array was made so shuffle is not assigned to anything\n",
    "print(shuffle)\n",
    "\n",
    "# Print shuffled array\n",
    "print(\"Shuffled array: \", array)"
   ]
  },
  {
   "cell_type": "code",
   "execution_count": 177,
   "metadata": {},
   "outputs": [
    {
     "name": "stdout",
     "output_type": "stream",
     "text": [
      "Original array: \n",
      " [[1 2 3]\n",
      " [4 5 6]\n",
      " [7 8 9]]\n",
      "Shuffled array: \n",
      " [[4 5 6]\n",
      " [1 2 3]\n",
      " [7 8 9]]\n",
      "Shuffled array along axis: \n",
      " [[6 4 5]\n",
      " [3 1 2]\n",
      " [9 7 8]]\n"
     ]
    }
   ],
   "source": [
    "# Create array from 1 to 9 in a 3x3 shape\n",
    "array = np.arange(1,10).reshape((3,3))\n",
    "print(\"Original array: \\n\", array)\n",
    "\n",
    "# Position of smaller arrays are shuffle but order within those arrays stays the same\n",
    "rng.shuffle(array)\n",
    "print(\"Shuffled array: \\n\", array)\n",
    "\n",
    "# Shuffle along axis shuffles the order within smaller array but not position in larger array\n",
    "rng.shuffle(array, axis=1)\n",
    "print(\"Shuffled array along axis: \\n\", array)"
   ]
  },
  {
   "cell_type": "markdown",
   "metadata": {},
   "source": [
    "# Note about this line: Unlike shuffle, each slice along the given axis is shuffled independently of the others."
   ]
  },
  {
   "cell_type": "markdown",
   "metadata": {},
   "source": [
    "#### Generator.permutation\n",
    "***"
   ]
  },
  {
   "cell_type": "code",
   "execution_count": 179,
   "metadata": {},
   "outputs": [
    {
     "name": "stdout",
     "output_type": "stream",
     "text": [
      "Original array:  [1 2 3 4 5 6 7 8 9]\n",
      "Original array after permutation:  [1 2 3 4 5 6 7 8 9]\n",
      "New permutation:  [6 5 7 3 4 1 2 9 8]\n"
     ]
    }
   ],
   "source": [
    "# random.Generator.permutation(x, axis=0)\n",
    "\n",
    "# Create array from 1 to 9\n",
    "array = np.arange(1,10)\n",
    "print(\"Original array: \", array)\n",
    "\n",
    "# Permutation does not change order of original array like shuffle, instead a new array is created\n",
    "permute = rng.permutation(array)\n",
    "print(\"Original array after permutation: \", array)\n",
    "print(\"New permutation: \", permute)"
   ]
  },
  {
   "cell_type": "code",
   "execution_count": 183,
   "metadata": {},
   "outputs": [
    {
     "name": "stdout",
     "output_type": "stream",
     "text": [
      "Original array: \n",
      " [[1 2 3]\n",
      " [4 5 6]\n",
      " [7 8 9]]\n",
      "Original array: \n",
      " [[1 2 3]\n",
      " [4 5 6]\n",
      " [7 8 9]]\n",
      "Permuted array along axis: \n",
      " [[2 1 3]\n",
      " [5 4 6]\n",
      " [8 7 9]]\n"
     ]
    }
   ],
   "source": [
    "# Create array from 1 to 9 in a 3x3 shape\n",
    "array = np.arange(1,10).reshape((3,3))\n",
    "print(\"Original array: \\n\", array)\n",
    "\n",
    "# Permutations can also be performed via axes\n",
    "permute = rng.permutation(array, axis=1)\n",
    "print(\"Original array: \\n\", array)\n",
    "print(\"Permuted array along axis: \\n\", permute)"
   ]
  },
  {
   "cell_type": "markdown",
   "metadata": {},
   "source": [
    "#### Generator.permuted\n",
    "***"
   ]
  },
  {
   "cell_type": "code",
   "execution_count": null,
   "metadata": {},
   "outputs": [],
   "source": []
  },
  {
   "cell_type": "code",
   "execution_count": null,
   "metadata": {},
   "outputs": [],
   "source": []
  },
  {
   "cell_type": "code",
   "execution_count": null,
   "metadata": {},
   "outputs": [],
   "source": []
  },
  {
   "cell_type": "code",
   "execution_count": null,
   "metadata": {},
   "outputs": [],
   "source": []
  },
  {
   "cell_type": "code",
   "execution_count": null,
   "metadata": {},
   "outputs": [],
   "source": []
  },
  {
   "cell_type": "markdown",
   "metadata": {},
   "source": [
    "# Note about this line: Unlike shuffle, each slice along the given axis is shuffled independently of the others."
   ]
  },
  {
   "cell_type": "markdown",
   "metadata": {},
   "source": [
    "***\n",
    "## 3. Distributions"
   ]
  },
  {
   "cell_type": "markdown",
   "metadata": {},
   "source": [
    "### Uniform Distribution\n",
    "\n",
    "https://numpy.org/doc/stable/reference/random/generated/numpy.random.Generator.uniform.html#numpy.random.Generator.uniform"
   ]
  },
  {
   "cell_type": "code",
   "execution_count": 12,
   "metadata": {},
   "outputs": [
    {
     "data": {
      "image/png": "[encoded data removed]",
      "text/plain": [
       "<Figure size 960x640 with 1 Axes>"
      ]
     },
     "metadata": {},
     "output_type": "display_data"
    }
   ],
   "source": [
    "# rng = np.random.default_rng(2021)\n",
    "\n",
    "rng = np.random.default_rng()\n",
    "uarray = rng.uniform(0,100,100000)\n",
    "fig, ax = plt.subplots(figsize = (12,8))\n",
    "ax.hist(uarray)\n",
    "ax.set_title('Uniform Distribution', fontsize = '24')\n",
    "plt.show;"
   ]
  },
  {
   "cell_type": "markdown",
   "metadata": {},
   "source": [
    "***\n",
    "\n",
    "### Normal Distribution\n",
    "\n",
    "https://numpy.org/doc/stable/reference/random/generated/numpy.random.Generator.normal.html#numpy.random.Generator.normal"
   ]
  },
  {
   "cell_type": "code",
   "execution_count": 13,
   "metadata": {},
   "outputs": [
    {
     "data": {
      "image/png": "[encoded data removed]",
      "text/plain": [
       "<Figure size 960x640 with 1 Axes>"
      ]
     },
     "metadata": {},
     "output_type": "display_data"
    }
   ],
   "source": [
    "# rng = np.random.default_rng(2021)\n",
    "\n",
    "normalarray = rng.normal(0,100,100000)\n",
    "fig, ax = plt.subplots(figsize = (12,8))\n",
    "ax.hist(normalarray)\n",
    "ax.set_title('Normal Distribution', fontsize = '24')\n",
    "plt.show;"
   ]
  },
  {
   "cell_type": "markdown",
   "metadata": {},
   "source": [
    "***\n",
    "\n",
    "### Binomial Distribution\n",
    "\n",
    "https://numpy.org/doc/stable/reference/random/generated/numpy.random.Generator.binomial.html#numpy.random.Generator.binomial"
   ]
  },
  {
   "cell_type": "code",
   "execution_count": 14,
   "metadata": {},
   "outputs": [
    {
     "data": {
      "image/png": "[encoded data removed]",
      "text/plain": [
       "<Figure size 960x640 with 1 Axes>"
      ]
     },
     "metadata": {},
     "output_type": "display_data"
    }
   ],
   "source": [
    "# rng = np.random.default_rng(2021)\n",
    "\n",
    "n , p = 50, 0.25\n",
    "biarray = rng.binomial(n , p ,100000)\n",
    "fig, ax = plt.subplots(figsize = (12,8))\n",
    "ax.hist(biarray)\n",
    "ax.set_title('Binomial Distribution', fontsize = '24')\n",
    "plt.show;"
   ]
  },
  {
   "cell_type": "markdown",
   "metadata": {},
   "source": [
    "***\n",
    "\n",
    "### Exponential Distribution\n",
    "\n",
    "https://numpy.org/doc/stable/reference/random/generated/numpy.random.Generator.exponential.html#numpy.random.Generator.exponential"
   ]
  },
  {
   "cell_type": "code",
   "execution_count": 15,
   "metadata": {},
   "outputs": [
    {
     "data": {
      "image/png": "[encoded data removed]",
      "text/plain": [
       "<Figure size 960x640 with 1 Axes>"
      ]
     },
     "metadata": {},
     "output_type": "display_data"
    }
   ],
   "source": [
    "# rng = np.random.default_rng(2021)\n",
    "\n",
    "exarray = rng.exponential(size=1000, scale=1000)\n",
    "fig, ax = plt.subplots(figsize = (12,8))\n",
    "ax.hist(exarray)\n",
    "ax.set_title('Exponential Distribution', fontsize = '24')\n",
    "plt.show;"
   ]
  },
  {
   "cell_type": "markdown",
   "metadata": {},
   "source": [
    "***\n",
    "\n",
    "### Gamma Distribution\n",
    "\n",
    "https://numpy.org/doc/stable/reference/random/generated/numpy.random.Generator.gamma.html#numpy.random.Generator.gamma"
   ]
  },
  {
   "cell_type": "code",
   "execution_count": 16,
   "metadata": {},
   "outputs": [
    {
     "data": {
      "image/png": "[encoded data removed]",
      "text/plain": [
       "<Figure size 960x640 with 1 Axes>"
      ]
     },
     "metadata": {},
     "output_type": "display_data"
    }
   ],
   "source": [
    "# rng = np.random.default_rng(2021)\n",
    "\n",
    "shape, scale = 2., 2.\n",
    "garray = rng.gamma(shape, scale, 1000)\n",
    "fig, ax = plt.subplots(figsize = (12,8))\n",
    "ax.hist(garray, bins = 30)\n",
    "ax.set_title('Gamma Distribution', fontsize = '24')\n",
    "plt.show();"
   ]
  },
  {
   "cell_type": "markdown",
   "metadata": {},
   "source": [
    "***\n",
    "## 4. Seeds"
   ]
  },
  {
   "cell_type": "code",
   "execution_count": null,
   "metadata": {},
   "outputs": [],
   "source": []
  },
  {
   "cell_type": "code",
   "execution_count": null,
   "metadata": {},
   "outputs": [],
   "source": []
  },
  {
   "cell_type": "code",
   "execution_count": null,
   "metadata": {},
   "outputs": [],
   "source": []
  },
  {
   "cell_type": "markdown",
   "metadata": {},
   "source": [
    "***\n",
    "## References"
   ]
  },
  {
   "cell_type": "markdown",
   "metadata": {},
   "source": [
    "These will be tidyed up closer to the submission of the assignment:\n",
    "\n",
    "-https://www.cs.hmc.edu/tr/hmc-cs-2014-0905.pdf bit generator paper\n",
    "\n",
    "-https://www.pcg-random.org/ PCG number generators\n",
    "\n",
    "-https://towardsdatascience.com/random-seed-numpy-786cf7876a5f Article on random numbers in numpy\n",
    "\n",
    "-https://www.freecodecamp.org/news/random-number-generator/ Article on Random Number Generators\n",
    "\n",
    "-https://www.datacamp.com/community/tutorials/probability-distributions-python Random Distributions\n",
    "\n",
    "-https://towardsdatascience.com/practical-guide-to-common-probability-distributions-in-machine-learning-487f6137625 More Random Distributions\n",
    "\n",
    "-http://www.math.sci.hiroshima-u.ac.jp/m-mat/MT/ARTICLES/mt.pdf MT19937 BitGenerator paper"
   ]
  },
  {
   "cell_type": "markdown",
   "metadata": {},
   "source": [
    "***\n",
    "# End"
   ]
  }
 ],
 "metadata": {
  "kernelspec": {
   "display_name": "Python 3",
   "language": "python",
   "name": "python3"
  },
  "language_info": {
   "codemirror_mode": {
    "name": "ipython",
    "version": 3
   },
   "file_extension": ".py",
   "mimetype": "text/x-python",
   "name": "python",
   "nbconvert_exporter": "python",
   "pygments_lexer": "ipython3",
   "version": "3.8.5"
  }
 },
 "nbformat": 4,
 "nbformat_minor": 4
}
