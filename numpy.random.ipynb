{
 "cells": [
  {
   "cell_type": "markdown",
   "metadata": {},
   "source": [
    "# Analysis of numpy.random Python Package\n",
    "Author: David Maguire\n",
    "***"
   ]
  },
  {
   "cell_type": "code",
   "execution_count": 1,
   "metadata": {},
   "outputs": [],
   "source": [
    "#numpy\n",
    "import numpy as np\n",
    "\n",
    "#matplotlib pyplot\n",
    "import matplotlib.pyplot as plt\n",
    "\n",
    "#numpy.random default_rng\n",
    "from numpy.random import default_rng\n",
    "\n",
    "#numpy.random Generator, specific BitGenerators and Seed Sequence\n",
    "from numpy.random import Generator, PCG64, MT19937, SeedSequence"
   ]
  },
  {
   "cell_type": "code",
   "execution_count": 2,
   "metadata": {},
   "outputs": [],
   "source": [
    "# Set a style for all plots used below (Classic is useful as it shows line between histogram bins)\n",
    "plt.style.use('classic')"
   ]
  },
  {
   "cell_type": "markdown",
   "metadata": {},
   "source": [
    "\n",
    "***\n",
    "# 1. numpy.random"
   ]
  },
  {
   "cell_type": "markdown",
   "metadata": {},
   "source": [
    "https://numpy.org/doc/stable/reference/random/index.html [X]\n",
    "\n",
    "[This earlier version [X]](https://numpy.org/doc/1.16/reference/routines.random.html) contains the older numpy.random functions but categorised in the same categories as this notebook on one page, so may be useful to look through"
   ]
  },
  {
   "cell_type": "markdown",
   "metadata": {},
   "source": [
    "## 1.1 What is numpy.random?\n",
    "\n",
    "NumPy is a Python package used for many scientific computing processes and the creating of **ndarrays** for data storage and analysis [X]. numpy.random is a package within NumPy that allows the generation of **pseudo random** numbers. The package allows one or more pseudo random numbers to be generation within a given range. numpy.random allows for **simple number generation** (Covered in section 2.1 of this workbook) as well as the randomisation of the **order** of an array of numbers (Section 2.2). Randoms numbers can be generated across a specific **distribution** (Section 3) and **seeds** can also be used to give reproducable results (Section 4)."
   ]
  },
  {
   "cell_type": "markdown",
   "metadata": {},
   "source": [
    "## 1.2 Pseudo Random Number Generation\n",
    "\n",
    "Computers cannot, strictly speaking, come up with truly random numbers. Computers use a **seed** to come up with a starting point for their random number generating process. If both the seed and the process for generating random numbers is known, then the results of the pseudo random number generation can be reproduced, making them not truly random. When no seed is given, computers will usually use **entropy** from the computer's Operating System in the form of heat or another measurable physical property to get a seed for the number generation process. With modern computers, this measurement would be almost impossible for a human to measure, thus making the psuedo random number generation very close to pure random."
   ]
  },
  {
   "cell_type": "code",
   "execution_count": 3,
   "metadata": {},
   "outputs": [
    {
     "name": "stdout",
     "output_type": "stream",
     "text": [
      "Seed taken from this OS's entropy:  294049792663067103180876837500637433078\n"
     ]
    }
   ],
   "source": [
    "# Seed Sequencing will be discussed in Section 4 but this code shows the size of the seed taken from this OS's entropy\n",
    "entropy = np.random.SeedSequence().entropy\n",
    "\n",
    "print(\"Seed taken from this OS's entropy: \", entropy)"
   ]
  },
  {
   "cell_type": "markdown",
   "metadata": {},
   "source": [
    "## 1.3 How does numpy.random work?\n",
    "\n",
    "numpy.random uses 2 methods to generate random numbers. These are:\n",
    "\n",
    "- [**BitGenerators [X]**](https://numpy.org/doc/stable/reference/random/bit_generators/generated/numpy.random.BitGenerator.html#numpy.random.BitGenerator)  generate a sequence of 32 or 64 random bits\n",
    "\n",
    "- [**Generators [X]**](https://numpy.org/doc/stable/reference/random/generator.html#numpy.random.Generator) transforms those random bits into numbers that follow a specific probability distribution (see section 3 for specific distributions)"
   ]
  },
  {
   "cell_type": "markdown",
   "metadata": {},
   "source": [
    "Throughout this workbook, the [**default_rng**](https://numpy.org/doc/stable/reference/random/generator.html#numpy.random.default_rng) function will be used. This uses the **PCG64** BitGenerator, however other BitGenerators can be used, such as the **MT19937** BitGenerator\n",
    "\n",
    "More about the comparison of different BitGenerators can be found [**here [5]**](https://numpy.org/doc/stable/reference/random/performance.html)"
   ]
  },
  {
   "cell_type": "code",
   "execution_count": 4,
   "metadata": {},
   "outputs": [
    {
     "name": "stdout",
     "output_type": "stream",
     "text": [
      "PCGrng BitGenerator:  Generator(PCG64) \n",
      "\n",
      "MTrng BitGenerator:  Generator(MT19937) \n",
      "\n",
      "default_rng BitGenerator:  Generator(PCG64)\n"
     ]
    }
   ],
   "source": [
    "# Assign different BitGenerators and default_rng\n",
    "PCGrng = Generator(PCG64())\n",
    "MTrng = Generator(MT19937())\n",
    "rng = default_rng()\n",
    "\n",
    "# Show bit generators assigned\n",
    "# default_rng is PCG64 BitGenerator\n",
    "print(\"PCGrng BitGenerator: \", PCGrng, \"\\n\")\n",
    "print(\"MTrng BitGenerator: \", MTrng, \"\\n\")\n",
    "print(\"default_rng BitGenerator: \", rng)"
   ]
  },
  {
   "cell_type": "code",
   "execution_count": 5,
   "metadata": {},
   "outputs": [],
   "source": [
    "# default_rng variable with seed to be used for all default_rng code below\n",
    "rng = np.random.default_rng(2021)"
   ]
  },
  {
   "cell_type": "markdown",
   "metadata": {},
   "source": [
    "#### NB: Seeds\n",
    "\n",
    "For the seed used above, to repeat the same results while re-running a cell, the seed will have to be called again within the cell. This is because the seed allows for a set sequence of random numbers to be made. If the seed is called at the top of the cell, then the result will alway be the first output in the sequence (which will always be the same). Otherwise, the sequence will continue and different results will be outputted."
   ]
  },
  {
   "cell_type": "markdown",
   "metadata": {},
   "source": [
    "## 1.4 Generating Random Numbers Using numpy.random"
   ]
  },
  {
   "cell_type": "code",
   "execution_count": 6,
   "metadata": {},
   "outputs": [
    {
     "data": {
      "image/png": "[encoded data removed]",
      "text/plain": [
       "<Figure size 960x640 with 1 Axes>"
      ]
     },
     "metadata": {},
     "output_type": "display_data"
    }
   ],
   "source": [
    "# Use integers fuction to get random integers in the given range and size\n",
    "rarray = rng.integers(0,100,10000)\n",
    "\n",
    "# Set size of plot, give title and show\n",
    "fig, ax = plt.subplots(figsize = (12,8))\n",
    "ax.set_title('Random Numbers', fontsize = '24')\n",
    "ax.hist(rarray)\n",
    "plt.show;"
   ]
  },
  {
   "cell_type": "markdown",
   "metadata": {},
   "source": [
    "#### Default_rng distribution\n",
    "As shown by the plot above, the default distribution of default_rng is **uniform**, meaning that every number in the given range has the same probability of appearing.\n",
    "More on Uniform distribution can be found in section 3.1."
   ]
  },
  {
   "cell_type": "markdown",
   "metadata": {},
   "source": [
    "***\n",
    "# 2. Simple Random Data and Permutations"
   ]
  },
  {
   "cell_type": "markdown",
   "metadata": {},
   "source": [
    "## 2.1 Simple Random Data\n",
    "Simple random data in numpy.random is the use of a Generator to produce random data with no set distribution. In the newest version of numpy.random, there are 4 types of simple random data:\n",
    "\n",
    "- [**integers [X]**](https://numpy.org/doc/stable/reference/random/generated/numpy.random.Generator.integers.html#numpy.random.Generator.integers) produces random integers in a given range\n",
    "\n",
    "- [**random [X]**](https://numpy.org/doc/stable/reference/random/generated/numpy.random.Generator.random.html#numpy.random.Generator.random) returns random floats between 0.0 and 1.0\n",
    "\n",
    "- [**choice [X]**](https://numpy.org/doc/stable/reference/random/generated/numpy.random.Generator.choice.html#numpy.random.Generator.choice) returns a random sample from a given array\n",
    "\n",
    "- [**bytes [X]**](https://numpy.org/doc/stable/reference/random/generated/numpy.random.Generator.bytes.html#numpy.random.Generator.bytes) returns random bytes\n",
    "\n"
   ]
  },
  {
   "cell_type": "markdown",
   "metadata": {},
   "source": [
    "***\n",
    "\n",
    "#### 2.1.1 Generator.integers\n",
    "\n",
    "random.Generator.integers(low, high=None, size=None, dtype=np.int64, endpoint=False)\n"
   ]
  },
  {
   "cell_type": "code",
   "execution_count": 7,
   "metadata": {},
   "outputs": [
    {
     "name": "stdout",
     "output_type": "stream",
     "text": [
      "[2 0 9 0 0 9 1 9 4 2]\n"
     ]
    }
   ],
   "source": [
    "# If no high is given, first number is the high limit\n",
    "intarray = rng.integers(10, size = 10)\n",
    "print(intarray)"
   ]
  },
  {
   "cell_type": "code",
   "execution_count": 8,
   "metadata": {},
   "outputs": [
    {
     "name": "stdout",
     "output_type": "stream",
     "text": [
      "19\n"
     ]
    }
   ],
   "source": [
    "# If 2 numbers are given and no size, first number is low, second number is high\n",
    "intarray = rng.integers(10, 20)\n",
    "print(intarray)"
   ]
  },
  {
   "cell_type": "code",
   "execution_count": 9,
   "metadata": {},
   "outputs": [
    {
     "name": "stdout",
     "output_type": "stream",
     "text": [
      "[13 19 18 19 16 13 14 10 12 12]\n"
     ]
    }
   ],
   "source": [
    "# If 3 numbers are given, first number is low, second number is high, third is size\n",
    "intarray = rng.integers(10, 20, 10)\n",
    "print(intarray)"
   ]
  },
  {
   "cell_type": "markdown",
   "metadata": {},
   "source": [
    "***\n",
    "\n",
    "#### 2.1.2 Generator.random\n",
    "\n",
    "random.Generator.random(size=None, dtype=np.float64, out=None)\n"
   ]
  },
  {
   "cell_type": "code",
   "execution_count": 10,
   "metadata": {},
   "outputs": [
    {
     "name": "stdout",
     "output_type": "stream",
     "text": [
      "0.5003632947073116\n"
     ]
    }
   ],
   "source": [
    "# No input gives a random float between 0.0 and 1.0\n",
    "randomarray = rng.random()\n",
    "print(randomarray)"
   ]
  },
  {
   "cell_type": "code",
   "execution_count": 11,
   "metadata": {},
   "outputs": [
    {
     "name": "stdout",
     "output_type": "stream",
     "text": [
      "[0.89054481 0.98057857 0.90005737 0.23532271 0.15737052 0.56158699\n",
      " 0.59658743 0.80212776 0.66535053 0.26410453]\n"
     ]
    }
   ],
   "source": [
    "# 1 input give an array of that size\n",
    "randomarray = rng.random(10)\n",
    "print(randomarray)"
   ]
  },
  {
   "cell_type": "code",
   "execution_count": 12,
   "metadata": {},
   "outputs": [
    {
     "name": "stdout",
     "output_type": "stream",
     "text": [
      "64 bit floats:  [0.5054326218395753  0.933049411103887   0.7933489595065155\n",
      " 0.6418055455738242  0.27771705604039676 0.8446636223661166\n",
      " 0.12628349613168632 0.9836785997860784  0.5940809810415467\n",
      " 0.7957437101708185 ] \n",
      "\n",
      "32 bit floats:  [0.9685929   0.2745881   0.25368595  0.49275756  0.3753847   0.63896656\n",
      " 0.120945334 0.21731234  0.5208303   0.06515992 ]\n"
     ]
    }
   ],
   "source": [
    "# Floats can be in 64 or 32 bit\n",
    "dtype64array = rng.random(10)\n",
    "dtype32array = rng.random(10, dtype=np.float32)\n",
    "\n",
    "# This function sets the precision to 20 to show the difference in bit size\n",
    "np.set_printoptions(precision=20)\n",
    "\n",
    "print(\"64 bit floats: \", dtype64array, \"\\n\")\n",
    "print(\"32 bit floats: \", dtype32array)\n",
    "\n",
    "# Return to default (8) for rest of notebook\n",
    "np.set_printoptions(precision=8)"
   ]
  },
  {
   "cell_type": "markdown",
   "metadata": {},
   "source": [
    "***\n",
    "\n",
    "#### 2.1.3 Generator.choice\n",
    "\n",
    "random.Generator.choice(a, size=None, replace=True, p=None, axis=0, shuffle=True)"
   ]
  },
  {
   "cell_type": "code",
   "execution_count": 13,
   "metadata": {},
   "outputs": [
    {
     "name": "stdout",
     "output_type": "stream",
     "text": [
      "Pear\n"
     ]
    }
   ],
   "source": [
    "# Randomly chooses from an array\n",
    "choices = [\"Apple\", \"Banana\", \"Orange\", \"Pear\"]\n",
    "choicearray = rng.choice(choices)\n",
    "print(choicearray)"
   ]
  },
  {
   "cell_type": "code",
   "execution_count": 14,
   "metadata": {},
   "outputs": [
    {
     "name": "stdout",
     "output_type": "stream",
     "text": [
      "['Apple' 'Orange' 'Apple' 'Pear' 'Pear' 'Apple' 'Pear' 'Banana' 'Pear'\n",
      " 'Orange']\n"
     ]
    }
   ],
   "source": [
    "# Multiple choices can be made, choices by default can be made more than once\n",
    "choices = [\"Apple\", \"Banana\", \"Orange\", \"Pear\"]\n",
    "choicearray = rng.choice(choices, 10)\n",
    "print(choicearray)"
   ]
  },
  {
   "cell_type": "code",
   "execution_count": 15,
   "metadata": {},
   "outputs": [
    {
     "name": "stdout",
     "output_type": "stream",
     "text": [
      "['Orange' 'Pear' 'Apple' 'Banana']\n"
     ]
    }
   ],
   "source": [
    "# Replace=False allows unique choices to be made only once, choices are shuffled by default\n",
    "choices = [\"Apple\", \"Banana\", \"Orange\", \"Pear\"]\n",
    "choicearray = rng.choice(choices, 4, replace = False)\n",
    "print(choicearray)"
   ]
  },
  {
   "cell_type": "code",
   "execution_count": 16,
   "metadata": {},
   "outputs": [
    {
     "name": "stdout",
     "output_type": "stream",
     "text": [
      "['Apple' 'Banana' 'Orange' 'Pear']\n"
     ]
    }
   ],
   "source": [
    "# Shuffle=False gives the choices in the same order as the given list\n",
    "choices = [\"Apple\", \"Banana\", \"Orange\", \"Pear\"]\n",
    "choicearray = rng.choice(choices, 4, replace = False, shuffle=False)\n",
    "print(choicearray)"
   ]
  },
  {
   "cell_type": "code",
   "execution_count": 17,
   "metadata": {},
   "outputs": [
    {
     "name": "stdout",
     "output_type": "stream",
     "text": [
      "['Apple' 'Orange' 'Apple' 'Orange' 'Pear' 'Apple' 'Apple' 'Apple' 'Orange'\n",
      " 'Pear' 'Apple' 'Orange' 'Pear' 'Apple' 'Apple' 'Apple' 'Apple' 'Pear'\n",
      " 'Pear' 'Apple']\n"
     ]
    }
   ],
   "source": [
    "# p allows a probability of each choice to be given (must add up to 1.0)\n",
    "choices = [\"Apple\", \"Banana\", \"Orange\", \"Pear\"]\n",
    "choicearray = rng.choice(choices, 20, p=[0.7,0,0.2,0.1])\n",
    "print(choicearray)"
   ]
  },
  {
   "cell_type": "code",
   "execution_count": 18,
   "metadata": {},
   "outputs": [
    {
     "name": "stdout",
     "output_type": "stream",
     "text": [
      "[5 0 3 1 8]\n"
     ]
    }
   ],
   "source": [
    "# An int can also be given to choose a range of 0:a\n",
    "choicearray = rng.choice(a=10, size=5)\n",
    "print(choicearray)"
   ]
  },
  {
   "cell_type": "markdown",
   "metadata": {},
   "source": [
    "***\n",
    "\n",
    "#### 2.1.4 Generator.bytes\n",
    "\n",
    "random.Generator.bytes(length)"
   ]
  },
  {
   "cell_type": "code",
   "execution_count": 19,
   "metadata": {},
   "outputs": [
    {
     "name": "stdout",
     "output_type": "stream",
     "text": [
      "b'\\xb4`\\xef\\xda\\xa2\\xd90\\xa3cD\\xe9\\x19d\\x06\\xbe!\\xe6\\xb8\\xa4d'\n"
     ]
    }
   ],
   "source": [
    "# Returns random bytes of length given\n",
    "bytestring = rng.bytes(20)\n",
    "print(bytestring)"
   ]
  },
  {
   "cell_type": "markdown",
   "metadata": {},
   "source": [
    "## 2.2 Permutations"
   ]
  },
  {
   "cell_type": "markdown",
   "metadata": {},
   "source": [
    "Permutation in numpy.random affect the **order** of the data given. TIn the newest version of numpy.random, there are 3 different ways of permutating data:\n",
    "\n",
    " - [shuffle [X]](https://numpy.org/doc/stable/reference/random/generated/numpy.random.Generator.shuffle.html#numpy.random.Generator.shuffle) shuffles an array or sequence in-place changing the original array or sequence\n",
    " \n",
    " - [permutation [X]](https://numpy.org/doc/stable/reference/random/generated/numpy.random.Generator.permutation.html#numpy.random.Generator.permutation) randomly permutes an array or sequence, returning a copy\n",
    " \n",
    " - [permutated [X]](https://numpy.org/doc/stable/reference/random/generated/numpy.random.Generator.permuted.html#numpy.random.Generator.permuted) randomly permutes an array or sequence along an axis with each array being permuted independantly of the others"
   ]
  },
  {
   "cell_type": "markdown",
   "metadata": {},
   "source": [
    "***\n",
    "\n",
    "#### 2.2.1 Generator.shuffle\n",
    "\n",
    "random.Generator.shuffle(x, axis=0)"
   ]
  },
  {
   "cell_type": "code",
   "execution_count": 20,
   "metadata": {},
   "outputs": [
    {
     "name": "stdout",
     "output_type": "stream",
     "text": [
      "Original array:  [1 2 3 4 5 6 7 8 9]\n",
      "None\n",
      "Shuffled array:  [9 3 6 8 1 2 7 4 5]\n"
     ]
    }
   ],
   "source": [
    "# Create array from 1 to 9\n",
    "array = np.arange(1,10)\n",
    "print(\"Original array: \", array)\n",
    "\n",
    "# Shuffles existing array\n",
    "shuffle = rng.shuffle(array)\n",
    "\n",
    "# This will not work as no copy was of array was made so shuffle is not assigned to anything\n",
    "print(shuffle)\n",
    "\n",
    "# Print shuffled array\n",
    "print(\"Shuffled array: \", array)"
   ]
  },
  {
   "cell_type": "code",
   "execution_count": 21,
   "metadata": {},
   "outputs": [
    {
     "name": "stdout",
     "output_type": "stream",
     "text": [
      "Original array: \n",
      " [[ 0  1  2  3  4  5  6  7]\n",
      " [ 8  9 10 11 12 13 14 15]\n",
      " [16 17 18 19 20 21 22 23]]\n",
      "Shuffled array: \n",
      " [[ 8  9 10 11 12 13 14 15]\n",
      " [ 0  1  2  3  4  5  6  7]\n",
      " [16 17 18 19 20 21 22 23]]\n",
      "Shuffled array along axis: \n",
      " [[11 12 15  9 10 14 13  8]\n",
      " [ 3  4  7  1  2  6  5  0]\n",
      " [19 20 23 17 18 22 21 16]]\n"
     ]
    }
   ],
   "source": [
    "# Create array from 0 to 23 in 3x8 shape\n",
    "array = np.arange(24).reshape((3,8))\n",
    "print(\"Original array: \\n\", array)\n",
    "\n",
    "# Position of smaller arrays are shuffle but order within those arrays stays the same\n",
    "rng.shuffle(array)\n",
    "print(\"Shuffled array: \\n\", array)\n",
    "\n",
    "# Shuffle along axis shuffles the order within smaller array but not position in larger array\n",
    "rng.shuffle(array, axis=1)\n",
    "print(\"Shuffled array along axis: \\n\", array)"
   ]
  },
  {
   "cell_type": "markdown",
   "metadata": {},
   "source": [
    "***\n",
    "\n",
    "#### 2.2.2 Generator.permutation\n",
    "\n",
    "random.Generator.permutation(x, axis=0)"
   ]
  },
  {
   "cell_type": "code",
   "execution_count": 22,
   "metadata": {},
   "outputs": [
    {
     "name": "stdout",
     "output_type": "stream",
     "text": [
      "Original array:  [1 2 3 4 5 6 7 8 9]\n",
      "Original array after permutation:  [1 2 3 4 5 6 7 8 9]\n",
      "New permutation:  [8 3 5 9 4 6 1 7 2]\n"
     ]
    }
   ],
   "source": [
    "# Create array from 1 to 9\n",
    "array = np.arange(1,10)\n",
    "print(\"Original array: \", array)\n",
    "\n",
    "# Permutation does not change order of original array like shuffle, instead a new array is created\n",
    "permute = rng.permutation(array)\n",
    "print(\"Original array after permutation: \", array)\n",
    "print(\"New permutation: \", permute)"
   ]
  },
  {
   "cell_type": "code",
   "execution_count": 23,
   "metadata": {},
   "outputs": [
    {
     "name": "stdout",
     "output_type": "stream",
     "text": [
      "Original array: \n",
      " [[ 0  1  2  3  4  5  6  7]\n",
      " [ 8  9 10 11 12 13 14 15]\n",
      " [16 17 18 19 20 21 22 23]]\n",
      "Original array: \n",
      " [[ 0  1  2  3  4  5  6  7]\n",
      " [ 8  9 10 11 12 13 14 15]\n",
      " [16 17 18 19 20 21 22 23]]\n",
      "Permuted array along axis: \n",
      " [[ 0  1  6  4  3  2  7  5]\n",
      " [ 8  9 14 12 11 10 15 13]\n",
      " [16 17 22 20 19 18 23 21]]\n"
     ]
    }
   ],
   "source": [
    "# Create array from 0 to 23 in 3x8 shape\n",
    "array = np.arange(24).reshape((3,8))\n",
    "print(\"Original array: \\n\", array)\n",
    "\n",
    "# Permutations can also be performed via axes\n",
    "permute = rng.permutation(array, axis=1)\n",
    "print(\"Original array: \\n\", array)\n",
    "print(\"Permuted array along axis: \\n\", permute)"
   ]
  },
  {
   "cell_type": "markdown",
   "metadata": {},
   "source": [
    "#### NB. When using the shuffle / permutation functions along an axis, it should be noted that each array is shuffled / permuted in the same way. E.g., in the below 3x3 array:\n",
    "\n",
    "[[1 2 3]\n",
    "\n",
    "[4 5 6]\n",
    "\n",
    "[7 8 9]]\n",
    "\n",
    "If the  [1 2 3] array is shuffle / permuted into [3 2 1], then the [4 5 6] array will become [6 5 4] and the [7 8 9] will become [9 8 7].\n",
    "\n",
    "This is important as it is in contrast to the Genorator.permuted function in section 2.2.3\n",
    "\n"
   ]
  },
  {
   "cell_type": "markdown",
   "metadata": {},
   "source": [
    "***\n",
    "\n",
    "#### 2.2.3 Generator.permuted\n",
    "\n",
    "random.Generator.permuted(x, axis=None, out=None)\n",
    "\n",
    "#### NB. Generator.permuted requires a newer version of numpy.random than 1.19. A new version may need to be installed"
   ]
  },
  {
   "cell_type": "code",
   "execution_count": 24,
   "metadata": {},
   "outputs": [
    {
     "name": "stdout",
     "output_type": "stream",
     "text": [
      "Original array: \n",
      " [[ 0  1  2  3  4  5  6  7]\n",
      " [ 8  9 10 11 12 13 14 15]\n",
      " [16 17 18 19 20 21 22 23]]\n",
      "Original array: \n",
      " [[ 0  1  2  3  4  5  6  7]\n",
      " [ 8  9 10 11 12 13 14 15]\n",
      " [16 17 18 19 20 21 22 23]]\n",
      "Permuted array along axis: \n",
      " [[ 7  6  3  4  2  0  5  1]\n",
      " [15 13  9 10 11 14 12  8]\n",
      " [18 22 21 19 20 23 17 16]]\n"
     ]
    }
   ],
   "source": [
    "# Create array from 0 to 23 in 3x8 shape\n",
    "array = np.arange(24).reshape((3,8))\n",
    "print(\"Original array: \\n\", array)\n",
    "\n",
    "# .permutated permutes axes independantly\n",
    "permuted = rng.permuted(array, axis=1)\n",
    "print(\"Original array: \\n\", array)\n",
    "print(\"Permuted array along axis: \\n\", permuted)"
   ]
  },
  {
   "cell_type": "markdown",
   "metadata": {},
   "source": [
    "#### The primary difference between .permuted and .shuffle / permutation is that axes are shuffled independantly of other axes. Also of note, .permuted can make a copy like .permutation (default) or permuted in place like .shuffle using the attribute out=x with x being the array being permuted:"
   ]
  },
  {
   "cell_type": "code",
   "execution_count": 25,
   "metadata": {},
   "outputs": [
    {
     "name": "stdout",
     "output_type": "stream",
     "text": [
      "Original array: \n",
      " [[ 0  1  2  3  4  5  6  7]\n",
      " [ 8  9 10 11 12 13 14 15]\n",
      " [16 17 18 19 20 21 22 23]]\n",
      "Original array: \n",
      " [[ 6  4  1  2  0  3  5  7]\n",
      " [11 10  8 15 14  9 12 13]\n",
      " [17 16 23 18 21 20 19 22]]\n"
     ]
    }
   ],
   "source": [
    "# In place .permuted\n",
    "# Create array from 0 to 23 in 3x8 shape\n",
    "array = np.arange(24).reshape((3,8))\n",
    "print(\"Original array: \\n\", array)\n",
    "\n",
    "# .permutated with out= original array\n",
    "rng.permuted(array, axis=1, out=array)\n",
    "print(\"Original array: \\n\", array)"
   ]
  },
  {
   "cell_type": "markdown",
   "metadata": {},
   "source": [
    "***\n",
    "## 3. Distributions\n",
    "\n",
    "For each distribution in this section, an simple explanation of the distribution will be followed by code to make an array of the distribution and a histogram visuallising it.\n",
    "\n",
    "Following that, the Probability Density/Mass Function for each distribution will be explained as well as the history of each distribution."
   ]
  },
  {
   "cell_type": "markdown",
   "metadata": {},
   "source": [
    "### 3.1 Uniform Distribution\n",
    "\n",
    "https://numpy.org/doc/stable/reference/random/generated/numpy.random.Generator.uniform.html#numpy.random.Generator.uniform\n",
    "\n",
    "A uniform distribution is what most people think of when they think of random numbers. A uniform distribution gives every number in a given range the same possibility of occuring."
   ]
  },
  {
   "cell_type": "code",
   "execution_count": 26,
   "metadata": {},
   "outputs": [
    {
     "data": {
      "image/png": "[encoded data removed]",
      "text/plain": [
       "<Figure size 960x640 with 1 Axes>"
      ]
     },
     "metadata": {},
     "output_type": "display_data"
    }
   ],
   "source": [
    "uarray = rng.uniform(0,100,100000)\n",
    "fig, ax = plt.subplots(figsize = (12,8))\n",
    "ax.hist(uarray)\n",
    "ax.set_title('Uniform Distribution', fontsize = '24')\n",
    "plt.show;"
   ]
  },
  {
   "cell_type": "markdown",
   "metadata": {},
   "source": [
    "### Probability Density Function of Uniform Distribution:\n",
    "\n",
    "## $f(x)={\\begin{cases}{\\frac {1}{b-a}}&\\mathrm {for} \\ a\\leq x\\leq b,\\\\[8pt]0&\\mathrm {for} \\ x<a\\ \\mathrm {or} \\ x>b\\end{cases}}$"
   ]
  },
  {
   "cell_type": "markdown",
   "metadata": {},
   "source": [
    "***\n",
    "\n",
    "### 3.2 Normal Distribution\n",
    "\n",
    "https://numpy.org/doc/stable/reference/random/generated/numpy.random.Generator.normal.html#numpy.random.Generator.normal"
   ]
  },
  {
   "cell_type": "code",
   "execution_count": 27,
   "metadata": {},
   "outputs": [
    {
     "data": {
      "image/png": "[encoded data removed]",
      "text/plain": [
       "<Figure size 960x640 with 1 Axes>"
      ]
     },
     "metadata": {},
     "output_type": "display_data"
    }
   ],
   "source": [
    "normalarray = rng.normal(0,100,100000)\n",
    "fig, ax = plt.subplots(figsize = (12,8))\n",
    "ax.hist(normalarray)\n",
    "ax.set_title('Normal Distribution', fontsize = '24')\n",
    "plt.show;"
   ]
  },
  {
   "cell_type": "markdown",
   "metadata": {},
   "source": [
    "### Probability Density Function of Normal Distribution:\n",
    "\n",
    "## ${\\displaystyle f(x)={\\frac {1}{\\sigma {\\sqrt {2\\pi }}}}e^{-{\\frac {1}{2}}\\left({\\frac {x-\\mu }{\\sigma }}\\right)^{2}}}$"
   ]
  },
  {
   "cell_type": "markdown",
   "metadata": {},
   "source": [
    "***\n",
    "\n",
    "### 3.3 Binomial Distribution\n",
    "\n",
    "https://numpy.org/doc/stable/reference/random/generated/numpy.random.Generator.binomial.html#numpy.random.Generator.binomial"
   ]
  },
  {
   "cell_type": "code",
   "execution_count": 28,
   "metadata": {},
   "outputs": [
    {
     "data": {
      "image/png": "[encoded data removed]",
      "text/plain": [
       "<Figure size 960x640 with 1 Axes>"
      ]
     },
     "metadata": {},
     "output_type": "display_data"
    }
   ],
   "source": [
    "n , p = 50, 0.25\n",
    "biarray = rng.binomial(n , p ,100000)\n",
    "fig, ax = plt.subplots(figsize = (12,8))\n",
    "ax.hist(biarray)\n",
    "ax.set_title('Binomial Distribution', fontsize = '24')\n",
    "plt.show;"
   ]
  },
  {
   "cell_type": "markdown",
   "metadata": {},
   "source": [
    "### Probability Mass Function of Binomial Distribution:\n",
    "\n",
    "## ${\\displaystyle f(k,n,p)=\\Pr(k;n,p)=\\Pr(X=k)={\\binom {n}{k}}p^{k}(1-p)^{n-k}}$"
   ]
  },
  {
   "cell_type": "markdown",
   "metadata": {},
   "source": [
    "***\n",
    "\n",
    "### 3.4 Exponential Distribution\n",
    "\n",
    "https://numpy.org/doc/stable/reference/random/generated/numpy.random.Generator.exponential.html#numpy.random.Generator.exponential"
   ]
  },
  {
   "cell_type": "code",
   "execution_count": 29,
   "metadata": {},
   "outputs": [
    {
     "data": {
      "image/png": "[encoded data removed]",
      "text/plain": [
       "<Figure size 960x640 with 1 Axes>"
      ]
     },
     "metadata": {},
     "output_type": "display_data"
    }
   ],
   "source": [
    "exarray = rng.exponential(size=1000, scale=1000)\n",
    "fig, ax = plt.subplots(figsize = (12,8))\n",
    "ax.hist(exarray)\n",
    "ax.set_title('Exponential Distribution', fontsize = '24')\n",
    "plt.show;"
   ]
  },
  {
   "cell_type": "markdown",
   "metadata": {},
   "source": [
    "### Probability Density Function of Exponential Distribution:\n",
    "\n",
    "## ${\\displaystyle f(x;\\lambda )={\\begin{cases}\\lambda e^{-\\lambda x}&x\\geq 0,\\\\0&x<0.\\end{cases}}}$"
   ]
  },
  {
   "cell_type": "markdown",
   "metadata": {},
   "source": [
    "***\n",
    "\n",
    "### 3.5 Gamma Distribution\n",
    "\n",
    "https://numpy.org/doc/stable/reference/random/generated/numpy.random.Generator.gamma.html#numpy.random.Generator.gamma"
   ]
  },
  {
   "cell_type": "code",
   "execution_count": 30,
   "metadata": {},
   "outputs": [
    {
     "data": {
      "image/png": "[encoded data removed]",
      "text/plain": [
       "<Figure size 960x640 with 1 Axes>"
      ]
     },
     "metadata": {},
     "output_type": "display_data"
    }
   ],
   "source": [
    "shape, scale = 2., 2.\n",
    "garray = rng.gamma(shape, scale, 1000)\n",
    "fig, ax = plt.subplots(figsize = (12,8))\n",
    "ax.hist(garray, bins = 30)\n",
    "ax.set_title('Gamma Distribution', fontsize = '24')\n",
    "plt.show();"
   ]
  },
  {
   "cell_type": "markdown",
   "metadata": {},
   "source": [
    "### Probability Density Function of Exponential Distribution:\n",
    "\n",
    "## ${\\displaystyle {\\begin{aligned}f(x;\\alpha ,\\beta )&={\\frac {\\beta ^{\\alpha }x^{\\alpha -1}e^{-\\beta x}}{\\Gamma (\\alpha )}}\\quad {\\text{ for }}x>0\\quad \\alpha ,\\beta >0,\\\\[6pt]\\end{aligned}}}$"
   ]
  },
  {
   "cell_type": "markdown",
   "metadata": {},
   "source": [
    "***\n",
    "## 4. Seeds"
   ]
  },
  {
   "cell_type": "markdown",
   "metadata": {},
   "source": [
    "## 4.1 What are Seeds?\n",
    "\n",
    "Seeds are **starting points** for random number generation. In numpy.random, seeds can be passed through **BitGenerators**. When seeds are used in numpy.random, the same output or sequence of outputs will occur each time the Generator is used."
   ]
  },
  {
   "cell_type": "code",
   "execution_count": 34,
   "metadata": {},
   "outputs": [
    {
     "data": {
      "text/plain": [
       "0.6823518632481435"
      ]
     },
     "execution_count": 34,
     "metadata": {},
     "output_type": "execute_result"
    }
   ],
   "source": [
    "seedrng = np.random.default_rng(123)\n",
    "rfloat = seedrng.random()\n",
    "rfloat"
   ]
  },
  {
   "cell_type": "markdown",
   "metadata": {},
   "source": [
    "Because of the seed used, the random number generated will always be 0.6823518632481435. This number is always the first iteration of the seed. Because the seed is assigned at the start of the cell, the first iteration of the seed is always used. When using the seed without calling the "
   ]
  },
  {
   "cell_type": "code",
   "execution_count": 32,
   "metadata": {},
   "outputs": [
    {
     "data": {
      "text/plain": [
       "0.053821018802222675"
      ]
     },
     "execution_count": 32,
     "metadata": {},
     "output_type": "execute_result"
    }
   ],
   "source": [
    "rfloat = seedrng.random()\n",
    "rfloat"
   ]
  },
  {
   "cell_type": "markdown",
   "metadata": {},
   "source": [
    "The first time running the above cell will always be 0.053..., then 0.220... When assigning the 123 seed again and running the above cell, the same will happen."
   ]
  },
  {
   "cell_type": "markdown",
   "metadata": {},
   "source": [
    "## 4.2 Default Seeds in numpy.random\n",
    "\n",
    "If no seed is given, numpy.random will obtain a seed from the entropy of the OS. The range of this possible seed is extremely large, thus making any reproduction of the seed extremely unlikely. It is possible to obtain the current seed given by the entropy of the OS by using the [**SeedSequence**](https://numpy.org/doc/stable/reference/random/bit_generators/generated/numpy.random.SeedSequence.html#numpy.random.SeedSequence).entropy [X] function:"
   ]
  },
  {
   "cell_type": "code",
   "execution_count": 37,
   "metadata": {},
   "outputs": [
    {
     "name": "stdout",
     "output_type": "stream",
     "text": [
      "Seed taken from this OS's entropy:  35252181524254356957567862251501146691\n"
     ]
    }
   ],
   "source": [
    "entropy = np.random.SeedSequence().entropy\n",
    "\n",
    "print(\"Seed taken from this OS's entropy: \", entropy)"
   ]
  },
  {
   "cell_type": "markdown",
   "metadata": {},
   "source": [
    "It should be noted that SeedSequence obtains a seed form **multiple sources of entropy**. \n",
    "The above code can be useful when generating random values because those values can be reproduced later by using the seed that was produced by the entropy of the OS at the time (suppose an interesting result came up when running a random simulation that you would like to later show to others)."
   ]
  },
  {
   "cell_type": "code",
   "execution_count": 115,
   "metadata": {},
   "outputs": [
    {
     "name": "stdout",
     "output_type": "stream",
     "text": [
      "Current entropy seed:  202647044508177201672539321365986421444\n",
      "[99 98 32 23 38 56 79 47 84 79] \n",
      "\n",
      "Current entropy seed:  260884109771542944395041475040130320069\n",
      "[44 73 97 99 35 68 98 51 89 91] \n",
      "\n",
      "First entropy seed:  202647044508177201672539321365986421444\n",
      "[99 98 32 23 38 56 79 47 84 79]\n"
     ]
    }
   ],
   "source": [
    "# Using entropy obtained from SeedSequence to use as a seed for random number generation\n",
    "sq1 = np.random.SeedSequence()\n",
    "print(\"Current entropy seed: \", sq1.entropy)\n",
    "\n",
    "# Create an array of random numbers using the seed obtained from SeedSequence\n",
    "array = np.random.default_rng(sq1.entropy).integers(0,100,10)\n",
    "print(array, \"\\n\")\n",
    "\n",
    "# Repeating this does not get the same results as the entropy at the exact time the code is ran is different\n",
    "sq2 = np.random.SeedSequence()\n",
    "print(\"Current entropy seed: \", sq2.entropy)\n",
    "\n",
    "array = np.random.default_rng(sq2.entropy).integers(0,100,10)\n",
    "print(array, \"\\n\")\n",
    "\n",
    "# Passing the original entropy through SeedSequence generates the same results as the first iteration \n",
    "sq3 = np.random.SeedSequence(sq1.entropy)\n",
    "print(\"First entropy seed: \", sq3.entropy)\n",
    "\n",
    "array = np.random.default_rng(sq3.entropy).integers(0,100,10)\n",
    "print(array)\n"
   ]
  },
  {
   "cell_type": "markdown",
   "metadata": {},
   "source": [
    "***\n",
    "## References"
   ]
  },
  {
   "cell_type": "markdown",
   "metadata": {},
   "source": [
    "-https://www.cs.hmc.edu/tr/hmc-cs-2014-0905.pdf BitGenerator paper\n",
    "\n",
    "-https://www.pcg-random.org/ PCG number generators\n",
    "\n",
    "-https://towardsdatascience.com/random-seed-numpy-786cf7876a5f Article on random numbers in numpy\n",
    "\n",
    "-https://www.freecodecamp.org/news/random-number-generator/ Article on Random Number Generators\n",
    "\n",
    "-https://www.datacamp.com/community/tutorials/probability-distributions-python Random Distributions\n",
    "\n",
    "-https://towardsdatascience.com/practical-guide-to-common-probability-distributions-in-machine-learning-487f6137625 More Random Distributions\n",
    "\n",
    "-http://www.math.sci.hiroshima-u.ac.jp/m-mat/MT/ARTICLES/mt.pdf MT19937 BitGenerator paper\n",
    "\n",
    "-https://numpy.org/doc/stable/reference/random/performance.html numpy.random recommendations, with notes with comparison of generators\n",
    "\n",
    "-https://numpy.org/doc/stable/reference/random/index.html numpy.random overview (new version)\n",
    "\n",
    "-https://numpy.org/doc/1.16/reference/routines.random.html numpy.random overview (old version)\n",
    "\n",
    "-https://numpy.org/doc/stable/reference/random/bit_generators/generated/numpy.random.BitGenerator.html#numpy.random.BitGenerator numpy.random BitGenerator overview\n",
    "\n",
    "-https://numpy.org/doc/stable/reference/random/generator.html#numpy.random.Generator numpy.random Generator overview\n",
    "\n",
    "-https://numpy.org/doc/stable/reference/random/generated/numpy.random.Generator.uniform.html#numpy.random.Generator.uniform numpy.random Uniform Distribution overview\n",
    "\n",
    "-https://numpy.org/doc/stable/reference/random/generated/numpy.random.Generator.normal.html#numpy.random.Generator.normal numpy.random Normal Distribution overview\n",
    "\n",
    "-https://numpy.org/doc/stable/reference/random/generated/numpy.random.Generator.binomial.html#numpy.random.Generator.binomial numpy.random Binomial Distribution overview\n",
    "\n",
    "-https://numpy.org/doc/stable/reference/random/generated/numpy.random.Generator.exponential.html#numpy.random.Generator.exponential numpy.random Exponential Distribution overview\n",
    "\n",
    "-https://numpy.org/doc/stable/reference/random/generated/numpy.random.Generator.gamma.html#numpy.random.Generator.gamma numpy.random Gamma Distribution overview"
   ]
  },
  {
   "cell_type": "markdown",
   "metadata": {},
   "source": [
    "***\n",
    "# End"
   ]
  }
 ],
 "metadata": {
  "kernelspec": {
   "display_name": "Python 3",
   "language": "python",
   "name": "python3"
  },
  "language_info": {
   "codemirror_mode": {
    "name": "ipython",
    "version": 3
   },
   "file_extension": ".py",
   "mimetype": "text/x-python",
   "name": "python",
   "nbconvert_exporter": "python",
   "pygments_lexer": "ipython3",
   "version": "3.8.5"
  }
 },
 "nbformat": 4,
 "nbformat_minor": 4
}
